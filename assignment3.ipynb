{
 "cells": [
  {
   "cell_type": "markdown",
   "metadata": {},
   "source": [
    "1.take two inputs from user and check whether they are equal or not"
   ]
  },
  {
   "cell_type": "code",
   "execution_count": 1,
   "metadata": {},
   "outputs": [
    {
     "name": "stdout",
     "output_type": "stream",
     "text": [
      "enter the first number:4\n",
      "enter the second number:5\n",
      "numbers are not equal\n"
     ]
    }
   ],
   "source": [
    "a=input(\"enter the first number:\")\n",
    "b=input(\"enter the second number:\")\n",
    "if a == b:\n",
    "    print(\"numbers are equal\")\n",
    "else:\n",
    "    print(\"numbers are not equal\")"
   ]
  },
  {
   "cell_type": "markdown",
   "metadata": {},
   "source": [
    "2.check all are equal ,any of two equal use(and,or)"
   ]
  },
  {
   "cell_type": "code",
   "execution_count": 10,
   "metadata": {},
   "outputs": [
    {
     "name": "stdout",
     "output_type": "stream",
     "text": [
      "enter the first number:8\n",
      "enter the second number:8\n",
      "enter the third number:9\n",
      "all are equal: False\n",
      "any of two equal: True\n"
     ]
    }
   ],
   "source": [
    "n1=input(\"enter the first number:\")\n",
    "n2=input(\"enter the second number:\")\n",
    "n3=input(\"enter the third number:\")\n",
    "all = n1 == n2 and n2 == n3 and n3 == n1\n",
    "print(\"all are equal:\",all)\n",
    "any = n1 == n2 or n2 == n3 or n3 == n1\n",
    "print(\"any of two equal:\",any)\n",
    "\n",
    "\n"
   ]
  },
  {
   "cell_type": "markdown",
   "metadata": {},
   "source": [
    "3.check whether the sum is greater than 5,less than5 or equal to 5"
   ]
  },
  {
   "cell_type": "code",
   "execution_count": 17,
   "metadata": {},
   "outputs": [
    {
     "name": "stdout",
     "output_type": "stream",
     "text": [
      "enter the first number3\n",
      "enter the second number2\n",
      "sum is greater than five: False\n",
      "sum is equal to five: True\n",
      "sum is less than five: False\n"
     ]
    }
   ],
   "source": [
    "a=int(input(\"enter the first number\"))\n",
    "b=int(input(\"enter the second number\"))\n",
    "sum=a+b\n",
    "print(\"sum is greater than five:\",sum>5)\n",
    "print(\"sum is equal to five:\",sum==5)\n",
    "print(\"sum is less than five:\",sum<5)\n",
    "    \n",
    "\n"
   ]
  },
  {
   "cell_type": "raw",
   "metadata": {},
   "source": [
    "4.suppose passing marks of subject 35.tale input of marks from user and check whether it is greater than passing marks or not"
   ]
  },
  {
   "cell_type": "code",
   "execution_count": 18,
   "metadata": {},
   "outputs": [
    {
     "name": "stdout",
     "output_type": "stream",
     "text": [
      "enter the marks:50\n",
      "markes is greater than passing marks: True\n"
     ]
    }
   ],
   "source": [
    "pm=35\n",
    "marks=int(input(\"enter the marks:\"))\n",
    "print(\"markes is greater than passing marks:\",marks>35)"
   ]
  },
  {
   "cell_type": "markdown",
   "metadata": {},
   "source": [
    "5.write python function to find the max of three numbers"
   ]
  },
  {
   "cell_type": "code",
   "execution_count": 29,
   "metadata": {},
   "outputs": [
    {
     "name": "stdout",
     "output_type": "stream",
     "text": [
      "enter the first number:5\n",
      "enter the second number:6\n",
      "enter the third number:8\n",
      "maximum number is: 8\n"
     ]
    }
   ],
   "source": [
    "def maximum(a, b, c):\n",
    "    if a>b and b>c:\n",
    "    return a\n",
    "    elif b>a and b>c:\n",
    "    return b\n",
    "    else:\n",
    "    return c\n",
    "a=int(input(\"enter the first number:\"))\n",
    "b=int(input(\"enter the second number:\"))\n",
    "c=int(input(\"enter the third number:\"))\n",
    "s=maximum(a, b, c)\n",
    "print(\"maximum number is:\",s)\n",
    "\n",
    "\n",
    "     "
   ]
  },
  {
   "cell_type": "code",
   "execution_count": null,
   "metadata": {},
   "outputs": [],
   "source": []
  }
 ],
 "metadata": {
  "kernelspec": {
   "display_name": "Python 3",
   "language": "python",
   "name": "python3"
  },
  "language_info": {
   "codemirror_mode": {
    "name": "ipython",
    "version": 3
   },
   "file_extension": ".py",
   "mimetype": "text/x-python",
   "name": "python",
   "nbconvert_exporter": "python",
   "pygments_lexer": "ipython3",
   "version": "3.7.4"
  }
 },
 "nbformat": 4,
 "nbformat_minor": 2
}
